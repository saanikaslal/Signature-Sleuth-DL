{
 "cells": [
  {
   "cell_type": "code",
   "execution_count": 1,
   "id": "90bd8f9a-2230-40a8-b733-89f7a784bef0",
   "metadata": {},
   "outputs": [
    {
     "name": "stdout",
     "output_type": "stream",
     "text": [
      "0\n"
     ]
    }
   ],
   "source": [
    "x=0\n",
    "print(x)"
   ]
  },
  {
   "cell_type": "code",
   "execution_count": 2,
   "id": "e676b9d9-8e58-4992-8fcc-efd85a23760a",
   "metadata": {},
   "outputs": [],
   "source": [
    "x=5\n"
   ]
  },
  {
   "cell_type": "markdown",
   "id": "887c442d-eeda-4cdb-aa02-5bd5dc6f52b9",
   "metadata": {},
   "source": [
    "headong jbn"
   ]
  },
  {
   "cell_type": "code",
   "execution_count": 3,
   "id": "0c6fdd5d-9f93-48af-8c44-36efc9077401",
   "metadata": {},
   "outputs": [
    {
     "name": "stdout",
     "output_type": "stream",
     "text": [
      "5\n"
     ]
    }
   ],
   "source": [
    "print(x) #printing fn "
   ]
  },
  {
   "cell_type": "code",
   "execution_count": 4,
   "id": "95b8653a-87f1-4bd7-b2be-b10d0fc8dff5",
   "metadata": {},
   "outputs": [
    {
     "name": "stdout",
     "output_type": "stream",
     "text": [
      "5\n"
     ]
    }
   ],
   "source": [
    "print(x) #printing fn "
   ]
  },
  {
   "cell_type": "code",
   "execution_count": null,
   "id": "247828d7-611a-44be-ae31-a33fc4edb8be",
   "metadata": {},
   "outputs": [],
   "source": []
  }
 ],
 "metadata": {
  "kernelspec": {
   "display_name": "Python 3 (ipykernel)",
   "language": "python",
   "name": "python3"
  },
  "language_info": {
   "codemirror_mode": {
    "name": "ipython",
    "version": 3
   },
   "file_extension": ".py",
   "mimetype": "text/x-python",
   "name": "python",
   "nbconvert_exporter": "python",
   "pygments_lexer": "ipython3",
   "version": "3.11.7"
  }
 },
 "nbformat": 4,
 "nbformat_minor": 5
}
